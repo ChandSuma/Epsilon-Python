{
 "cells": [
  {
   "cell_type": "markdown",
   "metadata": {},
   "source": [
    "1.Find the missing number in given integer array of 1 to 10. nums = [1,2,3,4,5,6,7,9,10]"
   ]
  },
  {
   "cell_type": "markdown",
   "metadata": {},
   "source": [
    "2.Find an element in array such that sum of left array is equal to sum of right array.\n",
    "array = [1,2,3,1,1,1]"
   ]
  },
  {
   "cell_type": "markdown",
   "metadata": {},
   "source": [
    "3.Given 3 strings: first, second, and third.Third String is said to be a shuffle of first and second if it can be formed by interleaving the characters of first and second String in a way that maintains the left to right ordering of the characters from each string.\n",
    "\n",
    "For example, given first = \"abc\" and second = \"def\", third = \"dabecf\" is a valid shuffle since it preserves the character ordering of the two strings. So, given these 3 strings write a program that detects whether the third String is a valid shuffle of first and second String."
   ]
  },
  {
   "cell_type": "markdown",
   "metadata": {},
   "source": [
    "4.Caesar's cipher shifts each letter by a number of letters. If the shift takes you past the end of the alphabet, just rotate back to the front of the alphabet. In the case of a rotation by 3, w, x, y and z would map to z, a, b and c.\n",
    "\n",
    "For example if string is : \"welcome\" and shift is 4 the output will be \"aipgtqi\"\n",
    "\n"
   ]
  },
  {
   "cell_type": "markdown",
   "metadata": {},
   "source": [
    "5.Write aprogram to check if two given strings are anagram of each other or not.\n",
    "\n",
    "Anagram Strings : if two given strings are anagrams of Each other. Two strings are anagrams if they are written using the same exact letters, ignoring space, punctuation, and capitalization. Eg : Input : \"Army\" and \"Mary\" Output \"Strings are anagrams of each other\""
   ]
  },
  {
   "cell_type": "markdown",
   "metadata": {},
   "source": [
    "6.Given a dictionary that associates the names of states with a list of the names of cities that appear in it,write a program that creates a new dictionary that associates the name of a city with the list of states that it appears in.\n",
    "As an example, if the first dictionary is\n",
    "\n",
    "Input :\n",
    "states = {'New Hampshire': ['Concord', 'Hanover'],\n",
    "\n",
    "'Massachusetts': ['Boston', 'Concord', 'Springfield'],\n",
    "\n",
    "'Illinois': ['Chicago', 'Springfield', 'Peoria']\n",
    "}\n",
    "\n",
    "Output:\n",
    "cities = {'Hanover': ['New Hampshire'],\n",
    "\n",
    "'Chicago': ['Illinois'],'Boston': ['Massachusetts'], \n",
    "\n",
    "'Peoria': ['Illinois'],'Concord': ['New Hampshire','Massachusetts'],\n",
    "\n",
    "'Springfield': ['Massachusetts', 'Illinois']\n",
    "}"
   ]
  },
  {
   "cell_type": "markdown",
   "metadata": {},
   "source": [
    "\n",
    "7.Consider a data, where the name of the restaurant, the type of restaurant, and the ratings are provided. Assume these values have already been read into a list of lists of the form below:\n",
    "restaurants = [ [ Acme, Italian, 2, 4, 3, 5],[ Flintstone, Steak, 5, 2, 4, 3, 3, 4],[ Bella Troy, Italian, 1, 4, 5] ]\n",
    "\n",
    "Write a program code that prints all Italian restaurants in the restaurants list that have no ratings of value 1 and at least one rating of value 5."
   ]
  },
  {
   "cell_type": "markdown",
   "metadata": {},
   "source": [
    "8.You are given three sentences in three strings str1,str2,str3. Assume the sentences contain no punctuation and have a single space between the words. Write a piece of code that prints the following:\n",
    "\n",
    "(a) The set of words that appear in str1 but not in str2 and not in str3.\n",
    "\n",
    "(b) The set of words that appear in all three sentences.\n",
    "\n",
    "(c) The set of words that appear in exactly two of the three sentences\n",
    "\n",
    "Remember, words are not case sensitive. For example, if you are given the sentences: str1 = \"Hail dear old Rensselaer the college of our heart\" str2 = \"For dear old Rensselaer we all must do our part\" str3 = \"True to old Rensselaer we will always strive to be\"\n",
    "\n",
    "Output: a) set(['heart', 'the', 'college', 'hail', 'of'])\n",
    "\n",
    "b) set(['old', 'rensselaer'])\n",
    "\n",
    "c) set(['dear', 'our', 'we'])"
   ]
  },
  {
   "cell_type": "markdown",
   "metadata": {},
   "source": [
    "9.Write a program to count the total number of notes in a given amount. Valid notes:10, 20, 50, 100, 500, 2000 eg : amount 2510, expected output is 2000=1,500=1,10=1"
   ]
  },
  {
   "cell_type": "markdown",
   "metadata": {},
   "source": [
    "10.Write a program to print Collatz Conjecture sequence for number 50.\n",
    "\n",
    "Collatz Conjecture: Take any number n. If n is even, divide it by 2, if\n",
    "n is odd, multiply it by 3 and add 1. Repeat the process indefinitely\n",
    "and you'll eventually reach 1."
   ]
  }
 ],
 "metadata": {
  "kernelspec": {
   "display_name": "Python 3",
   "language": "python",
   "name": "python3"
  },
  "language_info": {
   "codemirror_mode": {
    "name": "ipython",
    "version": 3
   },
   "file_extension": ".py",
   "mimetype": "text/x-python",
   "name": "python",
   "nbconvert_exporter": "python",
   "pygments_lexer": "ipython3",
   "version": "3.6.5"
  }
 },
 "nbformat": 4,
 "nbformat_minor": 2
}
