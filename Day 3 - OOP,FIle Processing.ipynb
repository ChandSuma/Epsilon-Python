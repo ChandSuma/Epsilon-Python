{
 "cells": [
  {
   "cell_type": "code",
   "execution_count": 3,
   "metadata": {},
   "outputs": [
    {
     "name": "stdout",
     "output_type": "stream",
     "text": [
      "10\n",
      "20\n",
      "30\n",
      "40\n",
      "50\n"
     ]
    },
    {
     "ename": "StopIteration",
     "evalue": "",
     "output_type": "error",
     "traceback": [
      "\u001b[1;31m---------------------------------------------------------------------------\u001b[0m",
      "\u001b[1;31mStopIteration\u001b[0m                             Traceback (most recent call last)",
      "\u001b[1;32m<ipython-input-3-1a8027bc71db>\u001b[0m in \u001b[0;36m<module>\u001b[1;34m()\u001b[0m\n\u001b[0;32m      7\u001b[0m \u001b[0mprint\u001b[0m\u001b[1;33m(\u001b[0m\u001b[0mnext\u001b[0m\u001b[1;33m(\u001b[0m\u001b[0mi\u001b[0m\u001b[1;33m)\u001b[0m\u001b[1;33m)\u001b[0m\u001b[1;33m\u001b[0m\u001b[0m\n\u001b[0;32m      8\u001b[0m \u001b[0mprint\u001b[0m\u001b[1;33m(\u001b[0m\u001b[0mnext\u001b[0m\u001b[1;33m(\u001b[0m\u001b[0mi\u001b[0m\u001b[1;33m)\u001b[0m\u001b[1;33m)\u001b[0m\u001b[1;33m\u001b[0m\u001b[0m\n\u001b[1;32m----> 9\u001b[1;33m \u001b[0mprint\u001b[0m\u001b[1;33m(\u001b[0m\u001b[0mnext\u001b[0m\u001b[1;33m(\u001b[0m\u001b[0mi\u001b[0m\u001b[1;33m)\u001b[0m\u001b[1;33m)\u001b[0m\u001b[1;33m\u001b[0m\u001b[0m\n\u001b[0m",
      "\u001b[1;31mStopIteration\u001b[0m: "
     ]
    }
   ],
   "source": [
    "l= [10,20,30,40,50]\n",
    "i = iter(l)\n",
    "\n",
    "print(next(i))\n",
    "print(next(i))\n",
    "print(next(i))\n",
    "print(next(i))\n",
    "print(next(i))\n",
    "print(next(i))"
   ]
  },
  {
   "cell_type": "code",
   "execution_count": 4,
   "metadata": {},
   "outputs": [],
   "source": [
    "import itertools "
   ]
  },
  {
   "cell_type": "code",
   "execution_count": 7,
   "metadata": {},
   "outputs": [
    {
     "name": "stdout",
     "output_type": "stream",
     "text": [
      "(1, 100)\n",
      "(2, 200)\n",
      "(3, 300)\n",
      "(4, 400)\n",
      "(10, 100)\n",
      "(20, 200)\n",
      "(30, 300)\n",
      "(40, 400)\n",
      "(100, 100)\n",
      "(200, 200)\n",
      "(300, 300)\n",
      "(400, 400)\n",
      "P\n",
      "y\n",
      "t\n",
      "h\n",
      "o\n",
      "n\n",
      " \n",
      "s\n",
      "t\n",
      "r\n",
      "i\n",
      "n\n",
      "g\n"
     ]
    }
   ],
   "source": [
    "l1 = [(1,100),(2,200),(3,300),(4,400)]\n",
    "l2 = [(10,100),(20,200),(30,300),(40,400)]\n",
    "l3 = [(100,100),(200,200),(300,300),(400,400)]\n",
    "l4 = \"Python string\"\n",
    "i = itertools.chain(l1,l2,l3,l4)\n",
    "\n",
    "for value in i:\n",
    "    print(value)\n",
    "    \n",
    "for value in i:\n",
    "    print(value)"
   ]
  },
  {
   "cell_type": "code",
   "execution_count": 11,
   "metadata": {},
   "outputs": [
    {
     "name": "stdout",
     "output_type": "stream",
     "text": [
      "(<itertools._tee object at 0x00000216C028CDC8>, <itertools._tee object at 0x00000216C028CFC8>, <itertools._tee object at 0x00000216C028C888>, <itertools._tee object at 0x00000216C028C208>, <itertools._tee object at 0x00000216C0292048>)\n",
      "(1, 100)\n",
      "(2, 200)\n",
      "(3, 300)\n",
      "(4, 400)\n",
      "(10, 100)\n",
      "(20, 200)\n",
      "(30, 300)\n",
      "(40, 400)\n",
      "(100, 100)\n",
      "(200, 200)\n",
      "(300, 300)\n",
      "(400, 400)\n",
      "P\n",
      "y\n",
      "t\n",
      "h\n",
      "o\n",
      "n\n",
      " \n",
      "s\n",
      "t\n",
      "r\n",
      "i\n",
      "n\n",
      "g\n",
      "(1, 100)\n",
      "(2, 200)\n",
      "(3, 300)\n",
      "(4, 400)\n",
      "(10, 100)\n",
      "(20, 200)\n",
      "(30, 300)\n",
      "(40, 400)\n",
      "(100, 100)\n",
      "(200, 200)\n",
      "(300, 300)\n",
      "(400, 400)\n",
      "P\n",
      "y\n",
      "t\n",
      "h\n",
      "o\n",
      "n\n",
      " \n",
      "s\n",
      "t\n",
      "r\n",
      "i\n",
      "n\n",
      "g\n"
     ]
    }
   ],
   "source": [
    "l1 = [(1,100),(2,200),(3,300),(4,400)]\n",
    "l2 = [(10,100),(20,200),(30,300),(40,400)]\n",
    "l3 = [(100,100),(200,200),(300,300),(400,400)]\n",
    "l4 = \"Python string\"\n",
    "i = itertools.chain(l1,l2,l3,l4)\n",
    "t = itertools.tee(i,5)\n",
    "print(t)\n",
    "for value in t[0]:\n",
    "    print(value)\n",
    "    \n",
    "for value in t[1]:\n",
    "    print(value)"
   ]
  },
  {
   "cell_type": "code",
   "execution_count": 13,
   "metadata": {},
   "outputs": [
    {
     "name": "stdout",
     "output_type": "stream",
     "text": [
      "[(1, 2), (1, 3), (1, 4), (1, 5), (2, 1), (2, 3), (2, 4), (2, 5), (3, 1), (3, 2), (3, 4), (3, 5), (4, 1), (4, 2), (4, 3), (4, 5), (5, 1), (5, 2), (5, 3), (5, 4)]\n"
     ]
    }
   ],
   "source": [
    "l = [1,2,3,4,5]\n",
    "sum = 7 \n",
    "print(list(itertools.permutations(l,2)))"
   ]
  },
  {
   "cell_type": "code",
   "execution_count": 14,
   "metadata": {},
   "outputs": [
    {
     "name": "stdout",
     "output_type": "stream",
     "text": [
      "[(1, 2), (1, 3), (1, 4), (1, 5), (2, 3), (2, 4), (2, 5), (3, 4), (3, 5), (4, 5)]\n"
     ]
    }
   ],
   "source": [
    "l = [1,2,3,4,5]\n",
    "sum = 7 \n",
    "print(list(itertools.combinations(l,2)))"
   ]
  },
  {
   "cell_type": "code",
   "execution_count": 21,
   "metadata": {},
   "outputs": [
    {
     "name": "stdout",
     "output_type": "stream",
     "text": [
      "150\n"
     ]
    }
   ],
   "source": [
    "import functools\n",
    "l = [10,20,30,40,50]\n",
    "f = functools.reduce(lambda a,b : a+b,l)\n",
    "print(f)"
   ]
  },
  {
   "cell_type": "code",
   "execution_count": 17,
   "metadata": {},
   "outputs": [
    {
     "name": "stdout",
     "output_type": "stream",
     "text": [
      "Help on built-in function reduce in module _functools:\n",
      "\n",
      "reduce(...)\n",
      "    reduce(function, sequence[, initial]) -> value\n",
      "    \n",
      "    Apply a function of two arguments cumulatively to the items of a sequence,\n",
      "    from left to right, so as to reduce the sequence to a single value.\n",
      "    For example, reduce(lambda x, y: x+y, [1, 2, 3, 4, 5]) calculates\n",
      "    ((((1+2)+3)+4)+5).  If initial is present, it is placed before the items\n",
      "    of the sequence in the calculation, and serves as a default when the\n",
      "    sequence is empty.\n",
      "\n"
     ]
    }
   ],
   "source": [
    "help(functools.reduce)"
   ]
  },
  {
   "cell_type": "code",
   "execution_count": 22,
   "metadata": {},
   "outputs": [
    {
     "name": "stdout",
     "output_type": "stream",
     "text": [
      "10\n",
      "20\n",
      "30\n",
      "40\n",
      "50\n",
      "10\n",
      "20\n",
      "30\n",
      "40\n",
      "50\n",
      "10\n",
      "20\n",
      "30\n",
      "40\n",
      "50\n",
      "10\n",
      "20\n",
      "30\n",
      "40\n",
      "50\n"
     ]
    }
   ],
   "source": [
    "l = [10,20,30,40,50]\n",
    "i = itertools.cycle(l)\n",
    "\n",
    "count = 0\n",
    "for value in i:\n",
    "    if count < 20 :\n",
    "        print(value)\n",
    "    else:\n",
    "        break\n",
    "    count+=1"
   ]
  },
  {
   "cell_type": "code",
   "execution_count": 26,
   "metadata": {},
   "outputs": [
    {
     "name": "stdout",
     "output_type": "stream",
     "text": [
      "(3, 300)\n",
      "(4, 400)\n",
      "(10, 100)\n",
      "(20, 200)\n",
      "(30, 300)\n",
      "(40, 400)\n",
      "(100, 100)\n",
      "(200, 200)\n"
     ]
    }
   ],
   "source": [
    "l1 = [(1,100),(2,200),(3,300),(4,400)]\n",
    "l2 = [(10,100),(20,200),(30,300),(40,400)]\n",
    "l3 = [(100,100),(200,200),(300,300),(400,400)]\n",
    "l4 = \"Python string\"\n",
    "i = itertools.chain(l1,l2,l3,l4)\n",
    "i1 = itertools.islice(i,2,10)\n",
    "for value in i1:\n",
    "    print(value)"
   ]
  },
  {
   "cell_type": "code",
   "execution_count": 31,
   "metadata": {},
   "outputs": [
    {
     "name": "stdout",
     "output_type": "stream",
     "text": [
      "100\n",
      "400\n"
     ]
    }
   ],
   "source": [
    "l = [10,20,30,40,50,60]\n",
    "t = (value * value for value in l)\n",
    "print(next(t))\n",
    "print(next(t))"
   ]
  },
  {
   "cell_type": "code",
   "execution_count": null,
   "metadata": {
    "scrolled": false
   },
   "outputs": [],
   "source": [
    "OOP: \n",
    "    class \n",
    "    objects "
   ]
  },
  {
   "cell_type": "code",
   "execution_count": null,
   "metadata": {},
   "outputs": [],
   "source": [
    "Paytm :\n",
    "Class :\n",
    "    data \n",
    "    methods \n",
    "    \n",
    "    \n",
    "    \n",
    "    name \n",
    "    mobno \n",
    "    email \n",
    "    kyc \n",
    "    \n",
    "    add_money \n",
    "    recharge \n",
    "    booking_tickets\n",
    "    \n",
    "object \n",
    "u1\n",
    "u2\n"
   ]
  },
  {
   "cell_type": "code",
   "execution_count": null,
   "metadata": {},
   "outputs": [],
   "source": [
    "User \n",
    "    username \n",
    "    password \n",
    "    name \n",
    "    email \n",
    "    \n",
    "    change_password \n",
    "    update_name \n",
    "    login \n",
    "    logout \n",
    "    update_email \n",
    "    \n",
    "    \n",
    "user1\n",
    "user2\n",
    "user3"
   ]
  },
  {
   "cell_type": "code",
   "execution_count": null,
   "metadata": {},
   "outputs": [],
   "source": [
    "instance varibale : \n",
    "class variable : class will have a single of this variable "
   ]
  },
  {
   "cell_type": "code",
   "execution_count": 65,
   "metadata": {},
   "outputs": [
    {
     "name": "stdout",
     "output_type": "stream",
     "text": [
      "ABC abc@gmail.com\n",
      "('ABC', 'abc@123', 'abc@gmail.com')\n",
      "ABC abc@gmail.com\n"
     ]
    }
   ],
   "source": [
    "class User:\n",
    "    count = 0\n",
    "    all_users = []\n",
    "    \n",
    "    def __init__(self,user,password,email = None):\n",
    "        self.user_name = user\n",
    "        self.password = password\n",
    "        self.email = email\n",
    "        User.count+=1\n",
    "        User.all_users.append(self)\n",
    "\n",
    "    def add_contact(self,contact_no):\n",
    "        self.contact = contact_no\n",
    "        \n",
    "    def get_details(self):\n",
    "        return self.user_name,self.password,self.email\n",
    "    \n",
    "    def __str__(self):\n",
    "        return \"{} {}\".format(self.user_name,self.email)\n",
    "    \n",
    "    def __add__(self,obj2):\n",
    "#         return self.user_name+obj2.user_name\n",
    "        return self\n",
    "\n",
    "\n",
    "user1 = User(\"ABC\",\"abc@123\",\"abc@gmail.com\")\n",
    "print(user1)\n",
    "\n",
    "user2 = User(\"PQR\",\"pqr@123\")\n",
    "\n",
    "# print(user1.user_name)\n",
    "# print(user2.user_name)\n",
    "\n",
    "# user1.add_contact(\"9123456789\")\n",
    "# print(user1.__dict__)\n",
    "\n",
    "print(user1.get_details())\n",
    "\n",
    "user3 = User(\"XYZ\",\"xyz@123\",\"xyz@gmail.com\")\n",
    "print(user1)\n",
    "\n"
   ]
  },
  {
   "cell_type": "code",
   "execution_count": 64,
   "metadata": {},
   "outputs": [
    {
     "name": "stdout",
     "output_type": "stream",
     "text": [
      "3\n"
     ]
    }
   ],
   "source": [
    "print(User.count)"
   ]
  },
  {
   "cell_type": "code",
   "execution_count": 49,
   "metadata": {},
   "outputs": [
    {
     "name": "stdout",
     "output_type": "stream",
     "text": [
      "ABC abc@gmail.com\n"
     ]
    }
   ],
   "source": [
    "\n",
    "print(user1)"
   ]
  },
  {
   "cell_type": "code",
   "execution_count": 62,
   "metadata": {},
   "outputs": [
    {
     "name": "stdout",
     "output_type": "stream",
     "text": [
      "PQR None\n"
     ]
    }
   ],
   "source": [
    "print(user2 + user1 + user1)"
   ]
  },
  {
   "cell_type": "code",
   "execution_count": 66,
   "metadata": {},
   "outputs": [
    {
     "name": "stdout",
     "output_type": "stream",
     "text": [
      "[<__main__.User object at 0x00000216C0393C88>, <__main__.User object at 0x00000216C029F550>, <__main__.User object at 0x00000216C02C2BA8>]\n"
     ]
    }
   ],
   "source": [
    "print(User.all_users)"
   ]
  },
  {
   "cell_type": "code",
   "execution_count": 67,
   "metadata": {},
   "outputs": [
    {
     "name": "stdout",
     "output_type": "stream",
     "text": [
      "['abc@gmail.com', None, 'xyz@gmail.com']\n"
     ]
    }
   ],
   "source": [
    "email = []\n",
    "for user in User.all_users:\n",
    "    email.append(user.email)\n",
    "print(email)"
   ]
  },
  {
   "cell_type": "code",
   "execution_count": 73,
   "metadata": {},
   "outputs": [
    {
     "name": "stdout",
     "output_type": "stream",
     "text": [
      "{'user_name': 'ABC', 'password': 'abc@123', 'email': 'abc@gmail.com', 'count': 100}\n",
      "{'user_name': 'PQR', 'password': 'pqr@123', 'email': None}\n",
      "{'user_name': 'XYZ', 'password': 'xyz@123', 'email': 'xyz@gmail.com'}\n"
     ]
    }
   ],
   "source": [
    "for user in User.all_users:\n",
    "    print(user.__dict__)"
   ]
  },
  {
   "cell_type": "code",
   "execution_count": 69,
   "metadata": {},
   "outputs": [
    {
     "name": "stdout",
     "output_type": "stream",
     "text": [
      "3\n",
      "3\n"
     ]
    }
   ],
   "source": [
    "print(User.count)\n",
    "print(user1.count)"
   ]
  },
  {
   "cell_type": "code",
   "execution_count": 71,
   "metadata": {},
   "outputs": [
    {
     "name": "stdout",
     "output_type": "stream",
     "text": [
      "3\n",
      "{'user_name': 'ABC', 'password': 'abc@123', 'email': 'abc@gmail.com', 'count': 100}\n"
     ]
    }
   ],
   "source": [
    "user1.count = 100\n",
    "print(User.count)\n",
    "print(user1.__dict__)"
   ]
  },
  {
   "cell_type": "code",
   "execution_count": 82,
   "metadata": {},
   "outputs": [
    {
     "name": "stdout",
     "output_type": "stream",
     "text": [
      "ABC abc@gmail.com\n",
      "('ABC', 'abc@123', 'abc@gmail.com')\n",
      "ABC abc@gmail.com\n"
     ]
    }
   ],
   "source": [
    "class User:\n",
    "    count = 0\n",
    "    all_users = []\n",
    "    \n",
    "    @classmethod\n",
    "    def incr_count(cls):\n",
    "        cls.count+=1\n",
    "        \n",
    "    @classmethod\n",
    "    def add_user(cls,obj):\n",
    "        cls.all_users.append(obj)\n",
    "    \n",
    "    def __init__(self,user,password,email = None):\n",
    "        self.__user_name = user\n",
    "        self.__password = password\n",
    "        self.email = email\n",
    "        User.incr_count()\n",
    "        User.add_user(self)\n",
    "\n",
    "    def add_contact(self,contact_no):\n",
    "        self.contact = contact_no\n",
    "        \n",
    "    def get_details(self):\n",
    "        return self.__user_name,self.__password,self.email\n",
    "    \n",
    "    def get_user_name(self):\n",
    "        return self.__user_name\n",
    "    \n",
    "    def get_password(self):\n",
    "        return self.__password\n",
    "    \n",
    "    def set_password(self,new_pass):\n",
    "        self.__password = new_pass\n",
    "    \n",
    "    \n",
    "    def __str__(self):\n",
    "        return \"{} {}\".format(self.__user_name,self.email)\n",
    "    \n",
    "    def __add__(self,obj2):\n",
    "        return self.__user_name+obj2.__user_name\n",
    "#         return self\n",
    "\n",
    "\n",
    "user1 = User(\"ABC\",\"abc@123\",\"abc@gmail.com\")\n",
    "print(user1)\n",
    "\n",
    "user2 = User(\"PQR\",\"pqr@123\")\n",
    "\n",
    "# print(user1.user_name)\n",
    "# print(user2.user_name)\n",
    "\n",
    "# user1.add_contact(\"9123456789\")\n",
    "# print(user1.__dict__)\n",
    "\n",
    "print(user1.get_details())\n",
    "\n",
    "user3 = User(\"XYZ\",\"xyz@123\",\"xyz@gmail.com\")\n",
    "print(user1)\n",
    "\n"
   ]
  },
  {
   "cell_type": "raw",
   "metadata": {},
   "source": [
    "User :\n",
    "    user_name\n",
    "    password \n",
    "    first_name\n",
    "    last_name\n",
    "    email\n",
    "    \n",
    "    \n",
    "Profile \n",
    "    contact_no \n",
    "    pan_no "
   ]
  },
  {
   "cell_type": "code",
   "execution_count": 87,
   "metadata": {},
   "outputs": [
    {
     "name": "stdout",
     "output_type": "stream",
     "text": [
      "{'_User__user_name': 'ABC', '_User__password': 'xyz@123', 'email': 'abc@gmail.com'}\n"
     ]
    }
   ],
   "source": [
    "print(user1.__dict__)"
   ]
  },
  {
   "cell_type": "code",
   "execution_count": 89,
   "metadata": {},
   "outputs": [
    {
     "name": "stdout",
     "output_type": "stream",
     "text": [
      "ABC\n"
     ]
    }
   ],
   "source": [
    "print(user1._User__user_name)"
   ]
  },
  {
   "cell_type": "code",
   "execution_count": 85,
   "metadata": {},
   "outputs": [
    {
     "name": "stdout",
     "output_type": "stream",
     "text": [
      "abc@123\n"
     ]
    }
   ],
   "source": [
    "print(user1.get_password())"
   ]
  },
  {
   "cell_type": "code",
   "execution_count": 86,
   "metadata": {},
   "outputs": [
    {
     "name": "stdout",
     "output_type": "stream",
     "text": [
      "xyz@123\n"
     ]
    }
   ],
   "source": [
    "user1.set_password(\"xyz@123\")\n",
    "print(user1.get_password())"
   ]
  },
  {
   "cell_type": "code",
   "execution_count": null,
   "metadata": {},
   "outputs": [],
   "source": []
  },
  {
   "cell_type": "code",
   "execution_count": 76,
   "metadata": {},
   "outputs": [
    {
     "name": "stdout",
     "output_type": "stream",
     "text": [
      "3\n",
      "[<__main__.User object at 0x00000216C03B0780>, <__main__.User object at 0x00000216C03B0860>, <__main__.User object at 0x00000216C03B06A0>]\n"
     ]
    }
   ],
   "source": [
    "print(User.count)\n",
    "print(User.all_users)"
   ]
  },
  {
   "cell_type": "code",
   "execution_count": 110,
   "metadata": {},
   "outputs": [
    {
     "name": "stdout",
     "output_type": "stream",
     "text": [
      "('ABC', 'abc@123', '9123456789')\n",
      "ABC\n"
     ]
    }
   ],
   "source": [
    "class User:\n",
    "    count = 0\n",
    "    all_users = []\n",
    "    \n",
    "    @classmethod\n",
    "    def incr_count(cls):\n",
    "        cls.count+=1\n",
    "        \n",
    "    @classmethod\n",
    "    def add_user(cls,obj):\n",
    "        cls.all_users.append(obj)\n",
    "    \n",
    "    def __init__(self,user,password,email = None):\n",
    "        self._user_name = user\n",
    "        self._password = password\n",
    "        self.email = email\n",
    "        User.incr_count()\n",
    "        User.add_user(self)\n",
    "\n",
    "    def add_contact(self,contact_no):\n",
    "        self.contact = contact_no\n",
    "        \n",
    "    def get_details(self):\n",
    "        return self._user_name,self._password,self.email\n",
    "    \n",
    "    def get_user_name(self):\n",
    "        return self._user_name\n",
    "    \n",
    "    def get_password(self):\n",
    "        return self._password\n",
    "    \n",
    "    def set_password(self,new_pass):\n",
    "        self._password = new_pass\n",
    "    \n",
    "    \n",
    "    def __str__(self):\n",
    "        return \"{} {}\".format(self._user_name,self.email)\n",
    "    \n",
    "    def __add__(self,obj2):\n",
    "        return self._user_name+obj2._user_name\n",
    "#         return self\n",
    "\n",
    "class Demo:\n",
    "    def get_details(self):\n",
    "        return \"Hi Python\"\n",
    "    \n",
    "class Profile(Demo,User):\n",
    "    \n",
    "    def __init__(self,user,password,email,contact,pan):\n",
    "        super().__init__(user,password,email)\n",
    "        self.contact = contact\n",
    "        self.pan = pan\n",
    "        \n",
    "    def get_details(self):\n",
    "#         t = User.get_details(self)\n",
    "        return self._user_name,self._password,self.contact\n",
    "    \n",
    "user1 = Profile(\"ABC\",\"abc@123\",\"abc@gmail.com\",\"9123456789\",\"ABCDE1234A\")\n",
    "# print(user1.__dict__)\n",
    "\n",
    "user2 = Profile(\"PQR\",\"pqr@123\",None,\"9123456789\",\"ABCDE1234A\")\n",
    "# print(user2.__dict__)\n",
    "\n",
    "print(user1.get_details())\n",
    "print(user1._user_name)"
   ]
  },
  {
   "cell_type": "code",
   "execution_count": 104,
   "metadata": {},
   "outputs": [
    {
     "name": "stdout",
     "output_type": "stream",
     "text": [
      "Help on Profile in module __main__ object:\n",
      "\n",
      "class Profile(Demo, User)\n",
      " |  Method resolution order:\n",
      " |      Profile\n",
      " |      Demo\n",
      " |      User\n",
      " |      builtins.object\n",
      " |  \n",
      " |  Methods defined here:\n",
      " |  \n",
      " |  __init__(self, user, password, email, contact, pan)\n",
      " |      Initialize self.  See help(type(self)) for accurate signature.\n",
      " |  \n",
      " |  get_details(self)\n",
      " |  \n",
      " |  ----------------------------------------------------------------------\n",
      " |  Data descriptors inherited from Demo:\n",
      " |  \n",
      " |  __dict__\n",
      " |      dictionary for instance variables (if defined)\n",
      " |  \n",
      " |  __weakref__\n",
      " |      list of weak references to the object (if defined)\n",
      " |  \n",
      " |  ----------------------------------------------------------------------\n",
      " |  Methods inherited from User:\n",
      " |  \n",
      " |  __add__(self, obj2)\n",
      " |  \n",
      " |  __str__(self)\n",
      " |      Return str(self).\n",
      " |  \n",
      " |  add_contact(self, contact_no)\n",
      " |  \n",
      " |  get_password(self)\n",
      " |  \n",
      " |  get_user_name(self)\n",
      " |  \n",
      " |  set_password(self, new_pass)\n",
      " |  \n",
      " |  ----------------------------------------------------------------------\n",
      " |  Class methods inherited from User:\n",
      " |  \n",
      " |  add_user(obj) from builtins.type\n",
      " |  \n",
      " |  incr_count() from builtins.type\n",
      " |  \n",
      " |  ----------------------------------------------------------------------\n",
      " |  Data and other attributes inherited from User:\n",
      " |  \n",
      " |  all_users = [<__main__.Profile object>, <__main__.Profile object>]\n",
      " |  \n",
      " |  count = 2\n",
      "\n"
     ]
    }
   ],
   "source": [
    "help(user1)"
   ]
  },
  {
   "cell_type": "code",
   "execution_count": null,
   "metadata": {},
   "outputs": [],
   "source": [
    "User Demo \n",
    "  Profile "
   ]
  },
  {
   "cell_type": "code",
   "execution_count": 111,
   "metadata": {},
   "outputs": [
    {
     "name": "stdout",
     "output_type": "stream",
     "text": [
      "The Zen of Python, by Tim Peters\n",
      "\n",
      "Beautiful is better than ugly.\n",
      "Explicit is better than implicit.\n",
      "Simple is better than complex.\n",
      "Complex is better than complicated.\n",
      "Flat is better than nested.\n",
      "Sparse is better than dense.\n",
      "Readability counts.\n",
      "Special cases aren't special enough to break the rules.\n",
      "Although practicality beats purity.\n",
      "Errors should never pass silently.\n",
      "Unless explicitly silenced.\n",
      "In the face of ambiguity, refuse the temptation to guess.\n",
      "There should be one-- and preferably only one --obvious way to do it.\n",
      "Although that way may not be obvious at first unless you're Dutch.\n",
      "Now is better than never.\n",
      "Although never is often better than *right* now.\n",
      "If the implementation is hard to explain, it's a bad idea.\n",
      "If the implementation is easy to explain, it may be a good idea.\n",
      "Namespaces are one honking great idea -- let's do more of those!\n"
     ]
    }
   ],
   "source": [
    "import this"
   ]
  },
  {
   "cell_type": "code",
   "execution_count": null,
   "metadata": {},
   "outputs": [],
   "source": [
    "Exception :"
   ]
  },
  {
   "cell_type": "code",
   "execution_count": null,
   "metadata": {},
   "outputs": [],
   "source": [
    "syntax error \n",
    "exception "
   ]
  },
  {
   "cell_type": "code",
   "execution_count": 112,
   "metadata": {},
   "outputs": [
    {
     "ename": "IndexError",
     "evalue": "list index out of range",
     "output_type": "error",
     "traceback": [
      "\u001b[1;31m---------------------------------------------------------------------------\u001b[0m",
      "\u001b[1;31mIndexError\u001b[0m                                Traceback (most recent call last)",
      "\u001b[1;32m<ipython-input-112-cfb60c791d59>\u001b[0m in \u001b[0;36m<module>\u001b[1;34m()\u001b[0m\n\u001b[0;32m      1\u001b[0m \u001b[0ml\u001b[0m \u001b[1;33m=\u001b[0m \u001b[1;33m[\u001b[0m\u001b[1;36m10\u001b[0m\u001b[1;33m,\u001b[0m\u001b[1;36m20\u001b[0m\u001b[1;33m,\u001b[0m\u001b[1;36m30\u001b[0m\u001b[1;33m,\u001b[0m\u001b[1;36m40\u001b[0m\u001b[1;33m,\u001b[0m\u001b[1;36m50\u001b[0m\u001b[1;33m]\u001b[0m\u001b[1;33m\u001b[0m\u001b[0m\n\u001b[1;32m----> 2\u001b[1;33m \u001b[0mprint\u001b[0m\u001b[1;33m(\u001b[0m\u001b[0ml\u001b[0m\u001b[1;33m[\u001b[0m\u001b[1;36m100\u001b[0m\u001b[1;33m]\u001b[0m\u001b[1;33m)\u001b[0m\u001b[1;33m\u001b[0m\u001b[0m\n\u001b[0m",
      "\u001b[1;31mIndexError\u001b[0m: list index out of range"
     ]
    }
   ],
   "source": [
    "l = [10,20,30,40,50]\n",
    "print(l[100])"
   ]
  },
  {
   "cell_type": "code",
   "execution_count": null,
   "metadata": {},
   "outputs": [],
   "source": [
    "Everything in python is Object "
   ]
  },
  {
   "cell_type": "code",
   "execution_count": 113,
   "metadata": {},
   "outputs": [
    {
     "name": "stdout",
     "output_type": "stream",
     "text": [
      "<class 'list'>\n"
     ]
    }
   ],
   "source": [
    "l = [10,20,30,40,50]\n",
    "print(type(l))"
   ]
  },
  {
   "cell_type": "code",
   "execution_count": null,
   "metadata": {},
   "outputs": [],
   "source": [
    "class list:\n",
    "    def append \n",
    "    \n",
    "    def extend\n",
    "    \n",
    "    def __add__"
   ]
  },
  {
   "cell_type": "code",
   "execution_count": 114,
   "metadata": {},
   "outputs": [
    {
     "ename": "IndexError",
     "evalue": "list index out of range",
     "output_type": "error",
     "traceback": [
      "\u001b[1;31m---------------------------------------------------------------------------\u001b[0m",
      "\u001b[1;31mIndexError\u001b[0m                                Traceback (most recent call last)",
      "\u001b[1;32m<ipython-input-114-cfb60c791d59>\u001b[0m in \u001b[0;36m<module>\u001b[1;34m()\u001b[0m\n\u001b[0;32m      1\u001b[0m \u001b[0ml\u001b[0m \u001b[1;33m=\u001b[0m \u001b[1;33m[\u001b[0m\u001b[1;36m10\u001b[0m\u001b[1;33m,\u001b[0m\u001b[1;36m20\u001b[0m\u001b[1;33m,\u001b[0m\u001b[1;36m30\u001b[0m\u001b[1;33m,\u001b[0m\u001b[1;36m40\u001b[0m\u001b[1;33m,\u001b[0m\u001b[1;36m50\u001b[0m\u001b[1;33m]\u001b[0m\u001b[1;33m\u001b[0m\u001b[0m\n\u001b[1;32m----> 2\u001b[1;33m \u001b[0mprint\u001b[0m\u001b[1;33m(\u001b[0m\u001b[0ml\u001b[0m\u001b[1;33m[\u001b[0m\u001b[1;36m100\u001b[0m\u001b[1;33m]\u001b[0m\u001b[1;33m)\u001b[0m\u001b[1;33m\u001b[0m\u001b[0m\n\u001b[0m",
      "\u001b[1;31mIndexError\u001b[0m: list index out of range"
     ]
    }
   ],
   "source": [
    "l = [10,20,30,40,50]\n",
    "print(l[100])"
   ]
  },
  {
   "cell_type": "code",
   "execution_count": 116,
   "metadata": {},
   "outputs": [
    {
     "name": "stdout",
     "output_type": "stream",
     "text": [
      "['ArithmeticError', 'AssertionError', 'AttributeError', 'BaseException', 'BlockingIOError', 'BrokenPipeError', 'BufferError', 'BytesWarning', 'ChildProcessError', 'ConnectionAbortedError', 'ConnectionError', 'ConnectionRefusedError', 'ConnectionResetError', 'DeprecationWarning', 'EOFError', 'Ellipsis', 'EnvironmentError', 'Exception', 'False', 'FileExistsError', 'FileNotFoundError', 'FloatingPointError', 'FutureWarning', 'GeneratorExit', 'IOError', 'ImportError', 'ImportWarning', 'IndentationError', 'IndexError', 'InterruptedError', 'IsADirectoryError', 'KeyError', 'KeyboardInterrupt', 'LookupError', 'MemoryError', 'ModuleNotFoundError', 'NameError', 'None', 'NotADirectoryError', 'NotImplemented', 'NotImplementedError', 'OSError', 'OverflowError', 'PendingDeprecationWarning', 'PermissionError', 'ProcessLookupError', 'RecursionError', 'ReferenceError', 'ResourceWarning', 'RuntimeError', 'RuntimeWarning', 'StopAsyncIteration', 'StopIteration', 'SyntaxError', 'SyntaxWarning', 'SystemError', 'SystemExit', 'TabError', 'TimeoutError', 'True', 'TypeError', 'UnboundLocalError', 'UnicodeDecodeError', 'UnicodeEncodeError', 'UnicodeError', 'UnicodeTranslateError', 'UnicodeWarning', 'UserWarning', 'ValueError', 'Warning', 'WindowsError', 'ZeroDivisionError', '__IPYTHON__', '__build_class__', '__debug__', '__doc__', '__import__', '__loader__', '__name__', '__package__', '__spec__', 'abs', 'all', 'any', 'ascii', 'bin', 'bool', 'bytearray', 'bytes', 'callable', 'chr', 'classmethod', 'compile', 'complex', 'copyright', 'credits', 'delattr', 'dict', 'dir', 'display', 'divmod', 'enumerate', 'eval', 'exec', 'filter', 'float', 'format', 'frozenset', 'get_ipython', 'getattr', 'globals', 'hasattr', 'hash', 'help', 'hex', 'id', 'input', 'int', 'isinstance', 'issubclass', 'iter', 'len', 'license', 'list', 'locals', 'map', 'max', 'memoryview', 'min', 'next', 'object', 'oct', 'open', 'ord', 'pow', 'print', 'property', 'range', 'repr', 'reversed', 'round', 'set', 'setattr', 'slice', 'sorted', 'staticmethod', 'str', 'sum', 'super', 'tuple', 'type', 'vars', 'zip']\n"
     ]
    }
   ],
   "source": [
    "print(dir(__builtins__))"
   ]
  },
  {
   "cell_type": "code",
   "execution_count": 129,
   "metadata": {},
   "outputs": [
    {
     "name": "stdout",
     "output_type": "stream",
     "text": [
      "Value should be greater than 50 num is 5\n",
      "This block will always executed\n"
     ]
    }
   ],
   "source": [
    "class ValueLessThan50(Exception):\n",
    "    pass\n",
    "\n",
    "num = 5 \n",
    "\n",
    "try:\n",
    "    if num < 50:\n",
    "        raise ValueLessThan50(\"num is {}\".format(num))\n",
    "#     print(a)\n",
    "    l = [10,20,30,40]\n",
    "    print(l[100])\n",
    "    print(10 / 0)\n",
    "except IndexError as d:\n",
    "    print(\"Invalid index\",d)\n",
    "except ZeroDivisionError:\n",
    "    print(\"You can not divide by zero\")\n",
    "except ValueLessThan50 as e:\n",
    "    print(\"Value should be greater than 50\",e)\n",
    "finally:\n",
    "    print(\"This block will always executed\") \n",
    "# except Exception as e:\n",
    "#     print(\"Got a runtime error\",e)"
   ]
  },
  {
   "cell_type": "code",
   "execution_count": null,
   "metadata": {},
   "outputs": [],
   "source": [
    "Text "
   ]
  },
  {
   "cell_type": "code",
   "execution_count": null,
   "metadata": {},
   "outputs": [],
   "source": [
    "r => read \n",
    "r+ \n",
    "\n",
    "w => write \n",
    "w+ \n",
    "\n",
    "a => append \n",
    "a+ \n"
   ]
  },
  {
   "cell_type": "code",
   "execution_count": null,
   "metadata": {},
   "outputs": [],
   "source": [
    "open(filename,opening mode )"
   ]
  },
  {
   "cell_type": "code",
   "execution_count": 130,
   "metadata": {},
   "outputs": [],
   "source": [
    "fp = open(\"input1.txt\",\"r\")\n",
    "fp.close()"
   ]
  },
  {
   "cell_type": "code",
   "execution_count": 186,
   "metadata": {},
   "outputs": [
    {
     "ename": "UnicodeDecodeError",
     "evalue": "'charmap' codec can't decode byte 0x9d in position 418: character maps to <undefined>",
     "output_type": "error",
     "traceback": [
      "\u001b[1;31m---------------------------------------------------------------------------\u001b[0m",
      "\u001b[1;31mUnicodeDecodeError\u001b[0m                        Traceback (most recent call last)",
      "\u001b[1;32m<ipython-input-186-cf0bac8f42bf>\u001b[0m in \u001b[0;36m<module>\u001b[1;34m()\u001b[0m\n\u001b[0;32m      2\u001b[0m \u001b[0mfp\u001b[0m \u001b[1;33m=\u001b[0m \u001b[0mopen\u001b[0m\u001b[1;33m(\u001b[0m\u001b[1;34m\"input1.txt\"\u001b[0m\u001b[1;33m,\u001b[0m\u001b[1;34m\"r\"\u001b[0m\u001b[1;33m)\u001b[0m\u001b[1;33m\u001b[0m\u001b[0m\n\u001b[0;32m      3\u001b[0m \u001b[1;33m\u001b[0m\u001b[0m\n\u001b[1;32m----> 4\u001b[1;33m \u001b[0mcontent\u001b[0m \u001b[1;33m=\u001b[0m \u001b[0mfp\u001b[0m\u001b[1;33m.\u001b[0m\u001b[0mread\u001b[0m\u001b[1;33m(\u001b[0m\u001b[1;33m)\u001b[0m\u001b[1;33m\u001b[0m\u001b[0m\n\u001b[0m\u001b[0;32m      5\u001b[0m \u001b[0mr\u001b[0m \u001b[1;33m=\u001b[0m \u001b[0mcontent\u001b[0m\u001b[1;33m.\u001b[0m\u001b[0mencode\u001b[0m\u001b[1;33m(\u001b[0m\u001b[1;33m)\u001b[0m\u001b[1;33m\u001b[0m\u001b[0m\n\u001b[0;32m      6\u001b[0m \u001b[1;33m\u001b[0m\u001b[0m\n",
      "\u001b[1;32mC:\\ProgramData\\Anaconda3\\lib\\encodings\\cp1252.py\u001b[0m in \u001b[0;36mdecode\u001b[1;34m(self, input, final)\u001b[0m\n\u001b[0;32m     21\u001b[0m \u001b[1;32mclass\u001b[0m \u001b[0mIncrementalDecoder\u001b[0m\u001b[1;33m(\u001b[0m\u001b[0mcodecs\u001b[0m\u001b[1;33m.\u001b[0m\u001b[0mIncrementalDecoder\u001b[0m\u001b[1;33m)\u001b[0m\u001b[1;33m:\u001b[0m\u001b[1;33m\u001b[0m\u001b[0m\n\u001b[0;32m     22\u001b[0m     \u001b[1;32mdef\u001b[0m \u001b[0mdecode\u001b[0m\u001b[1;33m(\u001b[0m\u001b[0mself\u001b[0m\u001b[1;33m,\u001b[0m \u001b[0minput\u001b[0m\u001b[1;33m,\u001b[0m \u001b[0mfinal\u001b[0m\u001b[1;33m=\u001b[0m\u001b[1;32mFalse\u001b[0m\u001b[1;33m)\u001b[0m\u001b[1;33m:\u001b[0m\u001b[1;33m\u001b[0m\u001b[0m\n\u001b[1;32m---> 23\u001b[1;33m         \u001b[1;32mreturn\u001b[0m \u001b[0mcodecs\u001b[0m\u001b[1;33m.\u001b[0m\u001b[0mcharmap_decode\u001b[0m\u001b[1;33m(\u001b[0m\u001b[0minput\u001b[0m\u001b[1;33m,\u001b[0m\u001b[0mself\u001b[0m\u001b[1;33m.\u001b[0m\u001b[0merrors\u001b[0m\u001b[1;33m,\u001b[0m\u001b[0mdecoding_table\u001b[0m\u001b[1;33m)\u001b[0m\u001b[1;33m[\u001b[0m\u001b[1;36m0\u001b[0m\u001b[1;33m]\u001b[0m\u001b[1;33m\u001b[0m\u001b[0m\n\u001b[0m\u001b[0;32m     24\u001b[0m \u001b[1;33m\u001b[0m\u001b[0m\n\u001b[0;32m     25\u001b[0m \u001b[1;32mclass\u001b[0m \u001b[0mStreamWriter\u001b[0m\u001b[1;33m(\u001b[0m\u001b[0mCodec\u001b[0m\u001b[1;33m,\u001b[0m\u001b[0mcodecs\u001b[0m\u001b[1;33m.\u001b[0m\u001b[0mStreamWriter\u001b[0m\u001b[1;33m)\u001b[0m\u001b[1;33m:\u001b[0m\u001b[1;33m\u001b[0m\u001b[0m\n",
      "\u001b[1;31mUnicodeDecodeError\u001b[0m: 'charmap' codec can't decode byte 0x9d in position 418: character maps to <undefined>"
     ]
    }
   ],
   "source": [
    "import chardet\n",
    "fp = open(\"input1.txt\",\"r\")\n",
    "\n",
    "content = fp.read()\n",
    "r = content.encode()\n",
    "\n",
    "# print(type(r))\n",
    "\n",
    "temp = chardet.detect(r)\n",
    "print(temp)\n",
    "\n",
    "# print(\"---------------\")\n",
    "# content = fp.read(10)\n",
    "# print((content))\n",
    "\n",
    "# print(next(fp))\n",
    "# print(next(fp))\n",
    "# for x in fp:\n",
    "#     print(x)\n",
    "\n",
    "fp.close()"
   ]
  },
  {
   "cell_type": "code",
   "execution_count": 185,
   "metadata": {},
   "outputs": [
    {
     "name": "stdout",
     "output_type": "stream",
     "text": [
      "Help on package chardet:\n",
      "\n",
      "NAME\n",
      "    chardet\n",
      "\n",
      "DESCRIPTION\n",
      "    ######################## BEGIN LICENSE BLOCK ########################\n",
      "    # This library is free software; you can redistribute it and/or\n",
      "    # modify it under the terms of the GNU Lesser General Public\n",
      "    # License as published by the Free Software Foundation; either\n",
      "    # version 2.1 of the License, or (at your option) any later version.\n",
      "    #\n",
      "    # This library is distributed in the hope that it will be useful,\n",
      "    # but WITHOUT ANY WARRANTY; without even the implied warranty of\n",
      "    # MERCHANTABILITY or FITNESS FOR A PARTICULAR PURPOSE.  See the GNU\n",
      "    # Lesser General Public License for more details.\n",
      "    #\n",
      "    # You should have received a copy of the GNU Lesser General Public\n",
      "    # License along with this library; if not, write to the Free Software\n",
      "    # Foundation, Inc., 51 Franklin St, Fifth Floor, Boston, MA\n",
      "    # 02110-1301  USA\n",
      "    ######################### END LICENSE BLOCK #########################\n",
      "\n",
      "PACKAGE CONTENTS\n",
      "    big5freq\n",
      "    big5prober\n",
      "    chardistribution\n",
      "    charsetgroupprober\n",
      "    charsetprober\n",
      "    cli (package)\n",
      "    codingstatemachine\n",
      "    compat\n",
      "    cp949prober\n",
      "    enums\n",
      "    escprober\n",
      "    escsm\n",
      "    eucjpprober\n",
      "    euckrfreq\n",
      "    euckrprober\n",
      "    euctwfreq\n",
      "    euctwprober\n",
      "    gb2312freq\n",
      "    gb2312prober\n",
      "    hebrewprober\n",
      "    jisfreq\n",
      "    jpcntx\n",
      "    langbulgarianmodel\n",
      "    langcyrillicmodel\n",
      "    langgreekmodel\n",
      "    langhebrewmodel\n",
      "    langhungarianmodel\n",
      "    langthaimodel\n",
      "    langturkishmodel\n",
      "    latin1prober\n",
      "    mbcharsetprober\n",
      "    mbcsgroupprober\n",
      "    mbcssm\n",
      "    sbcharsetprober\n",
      "    sbcsgroupprober\n",
      "    sjisprober\n",
      "    universaldetector\n",
      "    utf8prober\n",
      "    version\n",
      "\n",
      "FUNCTIONS\n",
      "    detect(byte_str)\n",
      "        Detect the encoding of the given byte string.\n",
      "        \n",
      "        :param byte_str:     The byte sequence to examine.\n",
      "        :type byte_str:      ``bytes`` or ``bytearray``\n",
      "\n",
      "DATA\n",
      "    PY2 = False\n",
      "    PY3 = True\n",
      "    VERSION = ['3', '0', '4']\n",
      "\n",
      "VERSION\n",
      "    3.0.4\n",
      "\n",
      "FILE\n",
      "    c:\\programdata\\anaconda3\\lib\\site-packages\\chardet\\__init__.py\n",
      "\n",
      "\n"
     ]
    }
   ],
   "source": [
    "help(chardet)"
   ]
  },
  {
   "cell_type": "code",
   "execution_count": null,
   "metadata": {},
   "outputs": [],
   "source": [
    "chardet"
   ]
  },
  {
   "cell_type": "code",
   "execution_count": 134,
   "metadata": {},
   "outputs": [],
   "source": [
    "import chardet"
   ]
  },
  {
   "cell_type": "code",
   "execution_count": 135,
   "metadata": {},
   "outputs": [
    {
     "name": "stdout",
     "output_type": "stream",
     "text": [
      "Help on package chardet:\n",
      "\n",
      "NAME\n",
      "    chardet\n",
      "\n",
      "DESCRIPTION\n",
      "    ######################## BEGIN LICENSE BLOCK ########################\n",
      "    # This library is free software; you can redistribute it and/or\n",
      "    # modify it under the terms of the GNU Lesser General Public\n",
      "    # License as published by the Free Software Foundation; either\n",
      "    # version 2.1 of the License, or (at your option) any later version.\n",
      "    #\n",
      "    # This library is distributed in the hope that it will be useful,\n",
      "    # but WITHOUT ANY WARRANTY; without even the implied warranty of\n",
      "    # MERCHANTABILITY or FITNESS FOR A PARTICULAR PURPOSE.  See the GNU\n",
      "    # Lesser General Public License for more details.\n",
      "    #\n",
      "    # You should have received a copy of the GNU Lesser General Public\n",
      "    # License along with this library; if not, write to the Free Software\n",
      "    # Foundation, Inc., 51 Franklin St, Fifth Floor, Boston, MA\n",
      "    # 02110-1301  USA\n",
      "    ######################### END LICENSE BLOCK #########################\n",
      "\n",
      "PACKAGE CONTENTS\n",
      "    big5freq\n",
      "    big5prober\n",
      "    chardistribution\n",
      "    charsetgroupprober\n",
      "    charsetprober\n",
      "    cli (package)\n",
      "    codingstatemachine\n",
      "    compat\n",
      "    cp949prober\n",
      "    enums\n",
      "    escprober\n",
      "    escsm\n",
      "    eucjpprober\n",
      "    euckrfreq\n",
      "    euckrprober\n",
      "    euctwfreq\n",
      "    euctwprober\n",
      "    gb2312freq\n",
      "    gb2312prober\n",
      "    hebrewprober\n",
      "    jisfreq\n",
      "    jpcntx\n",
      "    langbulgarianmodel\n",
      "    langcyrillicmodel\n",
      "    langgreekmodel\n",
      "    langhebrewmodel\n",
      "    langhungarianmodel\n",
      "    langthaimodel\n",
      "    langturkishmodel\n",
      "    latin1prober\n",
      "    mbcharsetprober\n",
      "    mbcsgroupprober\n",
      "    mbcssm\n",
      "    sbcharsetprober\n",
      "    sbcsgroupprober\n",
      "    sjisprober\n",
      "    universaldetector\n",
      "    utf8prober\n",
      "    version\n",
      "\n",
      "FUNCTIONS\n",
      "    detect(byte_str)\n",
      "        Detect the encoding of the given byte string.\n",
      "        \n",
      "        :param byte_str:     The byte sequence to examine.\n",
      "        :type byte_str:      ``bytes`` or ``bytearray``\n",
      "\n",
      "DATA\n",
      "    PY2 = False\n",
      "    PY3 = True\n",
      "    VERSION = ['3', '0', '4']\n",
      "\n",
      "VERSION\n",
      "    3.0.4\n",
      "\n",
      "FILE\n",
      "    c:\\programdata\\anaconda3\\lib\\site-packages\\chardet\\__init__.py\n",
      "\n",
      "\n"
     ]
    }
   ],
   "source": [
    "help(chardet)"
   ]
  },
  {
   "cell_type": "code",
   "execution_count": null,
   "metadata": {},
   "outputs": [],
   "source": [
    "import chardet\n",
    "fp = open(\"input1.txt\",\"r\")\n",
    "chardet.detect()"
   ]
  },
  {
   "cell_type": "code",
   "execution_count": 150,
   "metadata": {},
   "outputs": [
    {
     "name": "stdout",
     "output_type": "stream",
     "text": [
      "['What’s New In Python 3.8\\n', 'Editor\\n', 'Raymond Hettinger\\n', '\\n', 'This article explains the new features in Python 3.8, compared to 3.7. For full details, see the changelog.\\n', '\\n', 'Python 3.8 was released on October 14th, 2019.\\n', '\\n', 'Summary – Release highlights\\n', 'New Features\\n']\n",
      "----------------\n",
      "['Assignment expressions\\n', 'There is new syntax := that assigns values to variables as part of a larger expression. It is affectionately known as “the walrus operator” due to its resemblance to the eyes and tusks of a walrus.\\n']\n"
     ]
    }
   ],
   "source": [
    "def get_lines(fp,arg = 10):\n",
    "    output = []\n",
    "    for value in range(arg):\n",
    "        s = next(fp)\n",
    "        output.append(s)\n",
    "        \n",
    "    return output\n",
    "    \n",
    "\n",
    "fp = open(\"input1.txt\",\"r\",encoding=\"utf-8\")\n",
    "l = get_lines(fp,10)\n",
    "print(l) \n",
    "\n",
    "print(\"----------------\")\n",
    "l = get_lines(fp,2)\n",
    "print(l) \n",
    "\n",
    "fp.close()"
   ]
  },
  {
   "cell_type": "code",
   "execution_count": 151,
   "metadata": {},
   "outputs": [
    {
     "name": "stdout",
     "output_type": "stream",
     "text": [
      "What’s New In Python 3.8\n",
      "\n"
     ]
    }
   ],
   "source": [
    "fp = open(\"input1.txt\",\"r\",encoding=\"utf-8\")\n",
    "print(fp.readline())\n",
    "fp.close()"
   ]
  },
  {
   "cell_type": "code",
   "execution_count": 154,
   "metadata": {},
   "outputs": [
    {
     "name": "stdout",
     "output_type": "stream",
     "text": [
      "['What’s New In Python 3.8\\n', 'Editor\\n', 'Raymond Hettinger\\n', '\\n', 'This article explains the new features in Python 3.8, compared to 3.7. For full details, see the changelog.\\n', '\\n', 'Python 3.8 was released on October 14th, 2019.\\n', '\\n', 'Summary – Release highlights\\n', 'New Features\\n']\n"
     ]
    }
   ],
   "source": [
    "fp = open(\"input1.txt\",\"r\",encoding=\"utf-8\")\n",
    "print(fp.readlines()[0:10])\n",
    "fp.close()"
   ]
  },
  {
   "cell_type": "code",
   "execution_count": null,
   "metadata": {},
   "outputs": [],
   "source": [
    "Read :\n",
    "    read() => str \n",
    "    read(45) => chars\n",
    "    readline() => iterate over one line at a time \n",
    "    readlines() => list\n",
    "    \n",
    "    "
   ]
  },
  {
   "cell_type": "code",
   "execution_count": 162,
   "metadata": {},
   "outputs": [
    {
     "name": "stdout",
     "output_type": "stream",
     "text": [
      "0\n",
      "9\n",
      "0\n",
      "9\n",
      "Hi Python\n"
     ]
    }
   ],
   "source": [
    "fp = open(\"input2.txt\",\"w+\",encoding=\"utf-8\")\n",
    "print(fp.tell())\n",
    "fp.write(\"Hi Python\")\n",
    "print(fp.tell())\n",
    "fp.seek(0,0)\n",
    "print(fp.tell())\n",
    "r =  fp.read()\n",
    "print(fp.tell())\n",
    "\n",
    "print(r)\n",
    "\n",
    "fp.close()"
   ]
  },
  {
   "cell_type": "code",
   "execution_count": 167,
   "metadata": {},
   "outputs": [
    {
     "name": "stdout",
     "output_type": "stream",
     "text": [
      "0\n"
     ]
    }
   ],
   "source": [
    "fp = open(\"input1.txt\",\"r+\",encoding=\"utf-8\")\n",
    "print(fp.tell())\n",
    "\n",
    "# r =  fp.read()\n",
    "# print(r)\n",
    "fp.seek(0,2)\n",
    "fp.write(\"\\nHello ******************\")\n",
    "fp.close()"
   ]
  },
  {
   "cell_type": "code",
   "execution_count": 173,
   "metadata": {},
   "outputs": [
    {
     "name": "stdout",
     "output_type": "stream",
     "text": [
      "3415\n",
      "\n",
      "Hello ******************\n",
      "Editor\n",
      "Raymond Hettinger\n",
      "\n",
      "This article explains the new features in Python 3.8, compared to 3.7. For full details, see the changelog.\n",
      "\n",
      "Python 3.8 was released on October 14th, 2019.\n",
      "\n",
      "Summary – Release highlights\n",
      "New Features\n",
      "Assignment expressions\n",
      "There is new syntax := that assigns values to variables as part of a larger expression. It is affectionately known as “the walrus operator” due to its resemblance to the eyes and tusks of a walrus.\n",
      "\n",
      "In this example, the assignment expression helps avoid calling len() twice:\n",
      "\n",
      "if (n := len(a)) > 10:\n",
      "    print(f\"List is too long ({n} elements, expected <= 10)\")\n",
      "A similar benefit arises during regular expression matching where match objects are needed twice, once to test whether a match occurred and another to extract a subgroup:\n",
      "\n",
      "discount = 0.0\n",
      "if (mo := re.search(r'(\\d+)% discount', advertisement)):\n",
      "    discount = float(mo.group(1)) / 100.0\n",
      "The operator is also useful with while-loops that compute a value to test loop termination and then need that same value again in the body of the loop:\n",
      "\n",
      "# Loop over fixed length blocks\n",
      "while (block := f.read(256)) != '':\n",
      "    process(block)\n",
      "Another motivating use case arises in list comprehensions where a value computed in a filtering condition is also needed in the expression body:\n",
      "\n",
      "[clean_name.title() for name in names\n",
      " if (clean_name := normalize('NFC', name)) in allowed_names]\n",
      "Try to limit use of the walrus operator to clean cases that reduce complexity and improve readability.\n",
      "\n",
      "See PEP 572 for a full description.\n",
      "\n",
      "(Contributed by Emily Morehouse in bpo-35224.)\n",
      "\n",
      "Positional-only parameters\n",
      "There is a new function parameter syntax / to indicate that some function parameters must be specified positionally and cannot be used as keyword arguments. This is the same notation shown by help() for C functions annotated with Larry Hastings’ Argument Clinic tool.\n",
      "\n",
      "In the following example, parameters a and b are positional-only, while c or d can be positional or keyword, and e or f are required to be keywords:\n",
      "\n",
      "def f(a, b, /, c, d, *, e, f):\n",
      "    print(a, b, c, d, e, f)\n",
      "The following is a valid call:\n",
      "\n",
      "f(10, 20, 30, d=40, e=50, f=60)\n",
      "However, these are invalid calls:\n",
      "\n",
      "f(10, b=20, c=30, d=40, e=50, f=60)   # b cannot be a keyword argument\n",
      "f(10, 20, 30, 40, 50, f=60)           # e must be a keyword argument\n",
      "One use case for this notation is that it allows pure Python functions to fully emulate behaviors of existing C coded functions. For example, the built-in pow() function does not accept keyword arguments:\n",
      "\n",
      "def pow(x, y, z=None, /):\n",
      "    \"Emulate the built in pow() function\"\n",
      "    r = x ** y\n",
      "    return r if z is None else r%z\n",
      "Another use case is to preclude keyword arguments when the parameter name is not helpful. For example, the builtin len() function has the signature len(obj, /). This precludes awkward calls such as:\n",
      "\n",
      "len(obj='hello')  # The \"obj\" keyword argument impairs readability\n",
      "A further benefit of marking a parameter as positional-only is that it allows the parameter name to be changed in the future without risk of breaking client code. For example, in the statistics module, the parameter name dist may be changed in the future. This was made possible with the following function specification:\n",
      "\n",
      "\n",
      "Hello ******************\n",
      "Hello ******************\n",
      "Hello ******************\n",
      "Hello ******************\n",
      "11111111111111111122222222222******************\n"
     ]
    }
   ],
   "source": [
    "fp = open(\"input1.txt\",\"a+\",encoding=\"utf-8\")\n",
    "print(fp.tell())\n",
    "\n",
    "# r =  fp.read()\n",
    "# print(r)\n",
    "# fp.seek(0,2)\n",
    "# fp.write(\"\\n11111111111111111122222222222******************\")\n",
    "fp.seek(0,0)\n",
    "r = fp.read()\n",
    "print(r)\n",
    "fp.close()"
   ]
  },
  {
   "cell_type": "code",
   "execution_count": null,
   "metadata": {},
   "outputs": [],
   "source": [
    "r : fp = > start of the file, error, read \n",
    "r+ : fp => start, error , read + write \n",
    "\n",
    "w : fp => start,create new file, write \n",
    "w+ : fp => start, create new file , write + read  \n",
    "\n",
    "a : end of the file, craete new file, append \n",
    "a+ : end of the file, craete new file, append + read \n",
    "    \n",
    "    \n",
    "tell\n",
    "seek \n",
    "   0 start\n",
    "   1 current     \n",
    "   2 end \n",
    "    \n",
    "0,2\n",
    "0,0\n",
    "15,1\n",
    "15,0"
   ]
  },
  {
   "cell_type": "code",
   "execution_count": null,
   "metadata": {},
   "outputs": [],
   "source": []
  },
  {
   "cell_type": "code",
   "execution_count": null,
   "metadata": {},
   "outputs": [],
   "source": [
    "tell => current fp position \n",
    "seek => to move the fp position \n",
    "\n",
    "(offset,position)\n",
    "\n",
    "position  0 : start of the file \n",
    "          1 : current position \n",
    "          2 : end of the file \n",
    "            \n",
    "Offset : How many chars \n",
    "    \n",
    "    seek(15,0) => move fp by 15 chars from start of the file \n",
    "    seek(0,2) =>  move the fp to end of the file \n",
    "    seek(0,1) =>15 char from current postion \n",
    "          (0,2)\n",
    "        \n",
    "        (100,0)\n"
   ]
  },
  {
   "cell_type": "code",
   "execution_count": 175,
   "metadata": {},
   "outputs": [],
   "source": [
    "fp1 = open(\"‪D:\\test_file.py\",\"a+\")\n",
    "fp2 = open(\"input2.txt\",\"r\") \n",
    "\n",
    "content2 = fp2.read()\n",
    "fp1.write(\"\\n\\n\\n\\n\"+content2)\n",
    "fp1.close()\n",
    "fp2.close()\n",
    "          "
   ]
  },
  {
   "cell_type": "code",
   "execution_count": null,
   "metadata": {},
   "outputs": [],
   "source": [
    "with open(\"input1.txt\",\"r\") as fp:\n",
    "    "
   ]
  },
  {
   "cell_type": "code",
   "execution_count": null,
   "metadata": {},
   "outputs": [],
   "source": [
    "content2.replace(\"old\",\"new\")"
   ]
  },
  {
   "cell_type": "code",
   "execution_count": 205,
   "metadata": {},
   "outputs": [
    {
     "name": "stdout",
     "output_type": "stream",
     "text": [
      "S\n",
      "{\n",
      "    \"glossary\": {\n",
      "        \"title\": \"example glossary\",\n",
      "        \"GlossDiv\": {\n",
      "            \"title\": \"T\",\n",
      "            \"GlossList\": {\n",
      "                \"GlossEntry\": {\n",
      "                    \"ID\": \"SGML\",\n",
      "                    \"SortAs\": \"SGML\",\n",
      "                    \"GlossTerm\": \"Standard Generalized Markup Language\",\n",
      "                    \"Acronym\": \"SGML\",\n",
      "                    \"Abbrev\": \"ISO 8879:1986\",\n",
      "                    \"GlossDef\": {\n",
      "                        \"para\": \"A meta-markup language, used to create markup languages such as DocBook.\",\n",
      "                        \"GlossSeeAlso\": [\n",
      "                            \"GML\",\n",
      "                            \"XML\"\n",
      "                        ]\n",
      "                    },\n",
      "                    \"GlossSee\": \"markup\"\n",
      "                }\n",
      "            }\n",
      "        }\n",
      "    }\n",
      "}\n"
     ]
    }
   ],
   "source": [
    "b"
   ]
  },
  {
   "cell_type": "code",
   "execution_count": null,
   "metadata": {},
   "outputs": [],
   "source": [
    "int                  number 10 12.55 \n",
    "float \n",
    "str ' ' \" \" \"\"\" \"\"\"  \" \"\n",
    "list []              array [10,20,30,\"Java\"]\n",
    "tuple()              \n",
    "dict                 {\"key\" : \"value\"} => objects \n",
    "set                  "
   ]
  },
  {
   "cell_type": "code",
   "execution_count": null,
   "metadata": {},
   "outputs": [],
   "source": [
    "loads => json str => python dict  \n",
    "dumps => python dict => json str "
   ]
  },
  {
   "cell_type": "code",
   "execution_count": 208,
   "metadata": {},
   "outputs": [
    {
     "name": "stdout",
     "output_type": "stream",
     "text": [
      "S\n"
     ]
    }
   ],
   "source": [
    "import json \n",
    "\n",
    "fp = open(\"test.json\",\"r\")\n",
    "d = json.load(fp)\n",
    "# print(d)\n",
    "print(d['glossary']['GlossDiv']['title'])\n",
    "d['glossary']['GlossDiv']['title'] = \"T\"\n",
    "# print(d)\n",
    "fp1 = open(\"test2.json\",\"w\")\n",
    "j = json.dump(d,fp1,indent=4)\n",
    "\n",
    "fp1.close()\n",
    "\n",
    "fp.close()"
   ]
  },
  {
   "cell_type": "code",
   "execution_count": null,
   "metadata": {},
   "outputs": [],
   "source": [
    "xmltodict \n",
    "pip install xmltodict \n",
    "\n",
    "parse => XML => Dict \n",
    "unparse => dict => XML \n"
   ]
  },
  {
   "cell_type": "code",
   "execution_count": null,
   "metadata": {},
   "outputs": [],
   "source": [
    "python setup.py install "
   ]
  },
  {
   "cell_type": "code",
   "execution_count": 210,
   "metadata": {},
   "outputs": [],
   "source": [
    "from lxml import etree as ET"
   ]
  },
  {
   "cell_type": "code",
   "execution_count": 214,
   "metadata": {},
   "outputs": [
    {
     "name": "stdout",
     "output_type": "stream",
     "text": [
      "<lxml.etree._ElementTree object at 0x00000216C0613208>\n"
     ]
    }
   ],
   "source": [
    "tree = ET.parse(\"test1.xml\")\n",
    "print(tree)"
   ]
  },
  {
   "cell_type": "code",
   "execution_count": 216,
   "metadata": {},
   "outputs": [
    {
     "name": "stdout",
     "output_type": "stream",
     "text": [
      "glossary {}\n"
     ]
    }
   ],
   "source": [
    "root = tree.getroot()\n",
    "print(root.tag,root.attrib)"
   ]
  },
  {
   "cell_type": "code",
   "execution_count": 227,
   "metadata": {},
   "outputs": [],
   "source": [
    "root.set(\"test\",\"new\")"
   ]
  },
  {
   "cell_type": "code",
   "execution_count": 228,
   "metadata": {},
   "outputs": [
    {
     "name": "stdout",
     "output_type": "stream",
     "text": [
      "{'test': 'new'}\n"
     ]
    }
   ],
   "source": [
    "print(root.attrib)"
   ]
  },
  {
   "cell_type": "code",
   "execution_count": 217,
   "metadata": {},
   "outputs": [
    {
     "name": "stdout",
     "output_type": "stream",
     "text": [
      "<Element title at 0x216c0543b48>\n",
      "<Element GlossDiv at 0x216c0610088>\n"
     ]
    }
   ],
   "source": [
    "for child in root:\n",
    "    print(child)"
   ]
  },
  {
   "cell_type": "code",
   "execution_count": 226,
   "metadata": {},
   "outputs": [
    {
     "name": "stdout",
     "output_type": "stream",
     "text": [
      "example glossary GlossDiv\n"
     ]
    }
   ],
   "source": [
    "print(root[0].text,root[1].tag)"
   ]
  },
  {
   "cell_type": "code",
   "execution_count": 230,
   "metadata": {},
   "outputs": [
    {
     "name": "stdout",
     "output_type": "stream",
     "text": [
      "<Element GlossSeeAlso at 0x216c05defc8>\n",
      "<Element GlossSeeAlso at 0x216c0610108>\n"
     ]
    }
   ],
   "source": [
    "for child in root.iter(\"GlossSeeAlso\"):\n",
    "    print(child)"
   ]
  },
  {
   "cell_type": "code",
   "execution_count": 231,
   "metadata": {},
   "outputs": [],
   "source": [
    "import sqlite3"
   ]
  },
  {
   "cell_type": "code",
   "execution_count": null,
   "metadata": {},
   "outputs": [],
   "source": [
    "conn = connection(db = \"\",username =\"\" ,password = \"\" , port = \" \") \n",
    "\n",
    "\n",
    "conn.close()\n",
    "conn.commit()\n",
    "conn.rollback()\n",
    "\n",
    "\n",
    "cur = conn.cursor()\n",
    "cur.execute(\"\")\n",
    "\n",
    "next(cur)\n",
    "cur.fetch_one()\n",
    "cur.fetch_all()"
   ]
  },
  {
   "cell_type": "code",
   "execution_count": null,
   "metadata": {},
   "outputs": [],
   "source": [
    "pip install cx_Oracle \n",
    "\n",
    "psycopg2\n",
    "pymysql \n"
   ]
  },
  {
   "cell_type": "code",
   "execution_count": null,
   "metadata": {},
   "outputs": [],
   "source": [
    "import cx_Oracle \n",
    "dsn = cx_Oracle.makedsn(host = \"\" , port = \" \", service_name =\" \")\n",
    "conn = cx_Oracle.connect(dsn = dsn ,user , pass = )"
   ]
  },
  {
   "cell_type": "code",
   "execution_count": 232,
   "metadata": {},
   "outputs": [],
   "source": [
    "import sqlite3\n",
    "conn = sqlite3.connect(\"test_db.db\")\n"
   ]
  },
  {
   "cell_type": "code",
   "execution_count": 248,
   "metadata": {},
   "outputs": [
    {
     "name": "stdout",
     "output_type": "stream",
     "text": [
      "['Binary', 'Cache', 'Connection', 'Cursor', 'DataError', 'DatabaseError', 'Date', 'DateFromTicks', 'Error', 'IntegrityError', 'InterfaceError', 'InternalError', 'NotSupportedError', 'OperationalError', 'OptimizedUnicode', 'PARSE_COLNAMES', 'PARSE_DECLTYPES', 'PrepareProtocol', 'ProgrammingError', 'Row', 'SQLITE_ALTER_TABLE', 'SQLITE_ANALYZE', 'SQLITE_ATTACH', 'SQLITE_CREATE_INDEX', 'SQLITE_CREATE_TABLE', 'SQLITE_CREATE_TEMP_INDEX', 'SQLITE_CREATE_TEMP_TABLE', 'SQLITE_CREATE_TEMP_TRIGGER', 'SQLITE_CREATE_TEMP_VIEW', 'SQLITE_CREATE_TRIGGER', 'SQLITE_CREATE_VIEW', 'SQLITE_DELETE', 'SQLITE_DENY', 'SQLITE_DETACH', 'SQLITE_DROP_INDEX', 'SQLITE_DROP_TABLE', 'SQLITE_DROP_TEMP_INDEX', 'SQLITE_DROP_TEMP_TABLE', 'SQLITE_DROP_TEMP_TRIGGER', 'SQLITE_DROP_TEMP_VIEW', 'SQLITE_DROP_TRIGGER', 'SQLITE_DROP_VIEW', 'SQLITE_IGNORE', 'SQLITE_INSERT', 'SQLITE_OK', 'SQLITE_PRAGMA', 'SQLITE_READ', 'SQLITE_REINDEX', 'SQLITE_SELECT', 'SQLITE_TRANSACTION', 'SQLITE_UPDATE', 'Statement', 'Time', 'TimeFromTicks', 'Timestamp', 'TimestampFromTicks', 'Warning', '__builtins__', '__cached__', '__doc__', '__file__', '__loader__', '__name__', '__package__', '__path__', '__spec__', 'adapt', 'adapters', 'apilevel', 'collections', 'complete_statement', 'connect', 'converters', 'datetime', 'dbapi2', 'enable_callback_tracebacks', 'enable_shared_cache', 'paramstyle', 'register_adapter', 'register_converter', 'sqlite_version', 'sqlite_version_info', 'threadsafety', 'time', 'version', 'version_info']\n"
     ]
    }
   ],
   "source": [
    "print(dir(sqlite3))"
   ]
  },
  {
   "cell_type": "code",
   "execution_count": 233,
   "metadata": {},
   "outputs": [
    {
     "name": "stdout",
     "output_type": "stream",
     "text": [
      "<sqlite3.Cursor object at 0x00000216C05BAA40>\n"
     ]
    }
   ],
   "source": [
    "cur = conn.cursor()\n",
    "print(cur)"
   ]
  },
  {
   "cell_type": "code",
   "execution_count": 234,
   "metadata": {},
   "outputs": [
    {
     "data": {
      "text/plain": [
       "<sqlite3.Cursor at 0x216c05baa40>"
      ]
     },
     "execution_count": 234,
     "metadata": {},
     "output_type": "execute_result"
    }
   ],
   "source": [
    "cur.execute(\"\"\"CREATE TABLE USER (ID INT PRIMARY KEY, NAME TEXT)\"\"\")"
   ]
  },
  {
   "cell_type": "code",
   "execution_count": 247,
   "metadata": {},
   "outputs": [
    {
     "name": "stdout",
     "output_type": "stream",
     "text": [
      "Data already exist\n"
     ]
    }
   ],
   "source": [
    "try:\n",
    "    cur.execute(\"\"\"INSERT INTO USER(ID,NAME) VALUES(1,'ABC') \"\"\")\n",
    "except sqlite3.IntegrityError:\n",
    "    print(\"Data already exist\")"
   ]
  },
  {
   "cell_type": "code",
   "execution_count": 238,
   "metadata": {},
   "outputs": [
    {
     "data": {
      "text/plain": [
       "<sqlite3.Cursor at 0x216c05baa40>"
      ]
     },
     "execution_count": 238,
     "metadata": {},
     "output_type": "execute_result"
    }
   ],
   "source": [
    "uid = 2\n",
    "name = 'PQR'\n",
    "cur.execute(\"\"\"INSERT INTO USER(ID,NAME) VALUES(?,?) \"\"\",(uid,name))"
   ]
  },
  {
   "cell_type": "code",
   "execution_count": 239,
   "metadata": {},
   "outputs": [
    {
     "data": {
      "text/plain": [
       "<sqlite3.Cursor at 0x216c05baa40>"
      ]
     },
     "execution_count": 239,
     "metadata": {},
     "output_type": "execute_result"
    }
   ],
   "source": [
    "l = [(3,\"XYZ\"),(4,\"RST\")]\n",
    "cur.executemany(\"\"\"INSERT INTO USER(ID,NAME) VALUES(?,?) \"\"\",l)"
   ]
  },
  {
   "cell_type": "code",
   "execution_count": 245,
   "metadata": {},
   "outputs": [
    {
     "name": "stdout",
     "output_type": "stream",
     "text": [
      "(1, 'ABC')\n",
      "[(2, 'PQR'), (3, 'XYZ'), (4, 'RST')]\n"
     ]
    }
   ],
   "source": [
    "cur.execute(\"\"\"SELECT * FROM USER\"\"\")\n",
    "# print(next(cur))\n",
    "\n",
    "# for x in cur:\n",
    "#     print(x)\n",
    "\n",
    "print(cur.fetchone())\n",
    "print(cur.fetchall())"
   ]
  },
  {
   "cell_type": "code",
   "execution_count": null,
   "metadata": {},
   "outputs": [],
   "source": [
    "conn.close()"
   ]
  },
  {
   "cell_type": "code",
   "execution_count": 249,
   "metadata": {},
   "outputs": [],
   "source": [
    "import requests "
   ]
  },
  {
   "cell_type": "code",
   "execution_count": 252,
   "metadata": {},
   "outputs": [
    {
     "name": "stdout",
     "output_type": "stream",
     "text": [
      "https://reqres.in/api/users?page=2\n",
      "200\n"
     ]
    }
   ],
   "source": [
    "BASE_URL = \"https://reqres.in\"\n",
    "abs_url = \"/api/users?page=2\"\n",
    "final_url = BASE_URL + abs_url\n",
    "print(final_url)\n",
    "\n",
    "response = requests.get(url = final_url)\n",
    "print(response.status_code)"
   ]
  },
  {
   "cell_type": "code",
   "execution_count": 262,
   "metadata": {},
   "outputs": [
    {
     "name": "stdout",
     "output_type": "stream",
     "text": [
      "{\"page\":2,\"per_page\":6,\"total\":12,\"total_pages\":2,\"data\":[{\"id\":7,\"email\":\"michael.lawson@reqres.in\",\"first_name\":\"Michael\",\"last_name\":\"Lawson\",\"avatar\":\"https://s3.amazonaws.com/uifaces/faces/twitter/follettkyle/128.jpg\"},{\"id\":8,\"email\":\"lindsay.ferguson@reqres.in\",\"first_name\":\"Lindsay\",\"last_name\":\"Ferguson\",\"avatar\":\"https://s3.amazonaws.com/uifaces/faces/twitter/araa3185/128.jpg\"},{\"id\":9,\"email\":\"tobias.funke@reqres.in\",\"first_name\":\"Tobias\",\"last_name\":\"Funke\",\"avatar\":\"https://s3.amazonaws.com/uifaces/faces/twitter/vivekprvr/128.jpg\"},{\"id\":10,\"email\":\"byron.fields@reqres.in\",\"first_name\":\"Byron\",\"last_name\":\"Fields\",\"avatar\":\"https://s3.amazonaws.com/uifaces/faces/twitter/russoedu/128.jpg\"},{\"id\":11,\"email\":\"george.edwards@reqres.in\",\"first_name\":\"George\",\"last_name\":\"Edwards\",\"avatar\":\"https://s3.amazonaws.com/uifaces/faces/twitter/mrmoiree/128.jpg\"},{\"id\":12,\"email\":\"rachel.howell@reqres.in\",\"first_name\":\"Rachel\",\"last_name\":\"Howell\",\"avatar\":\"https://s3.amazonaws.com/uifaces/faces/twitter/hebertialmeida/128.jpg\"}]}\n"
     ]
    }
   ],
   "source": [
    "output = response.content.decode()\n",
    "print(output)"
   ]
  },
  {
   "cell_type": "code",
   "execution_count": 265,
   "metadata": {},
   "outputs": [
    {
     "name": "stdout",
     "output_type": "stream",
     "text": [
      "{'page': 2, 'per_page': 6, 'total': 12, 'total_pages': 2, 'data': [{'id': 7, 'email': 'michael.lawson@reqres.in', 'first_name': 'Michael', 'last_name': 'Lawson', 'avatar': 'https://s3.amazonaws.com/uifaces/faces/twitter/follettkyle/128.jpg'}, {'id': 8, 'email': 'lindsay.ferguson@reqres.in', 'first_name': 'Lindsay', 'last_name': 'Ferguson', 'avatar': 'https://s3.amazonaws.com/uifaces/faces/twitter/araa3185/128.jpg'}, {'id': 9, 'email': 'tobias.funke@reqres.in', 'first_name': 'Tobias', 'last_name': 'Funke', 'avatar': 'https://s3.amazonaws.com/uifaces/faces/twitter/vivekprvr/128.jpg'}, {'id': 10, 'email': 'byron.fields@reqres.in', 'first_name': 'Byron', 'last_name': 'Fields', 'avatar': 'https://s3.amazonaws.com/uifaces/faces/twitter/russoedu/128.jpg'}, {'id': 11, 'email': 'george.edwards@reqres.in', 'first_name': 'George', 'last_name': 'Edwards', 'avatar': 'https://s3.amazonaws.com/uifaces/faces/twitter/mrmoiree/128.jpg'}, {'id': 12, 'email': 'rachel.howell@reqres.in', 'first_name': 'Rachel', 'last_name': 'Howell', 'avatar': 'https://s3.amazonaws.com/uifaces/faces/twitter/hebertialmeida/128.jpg'}]}\n"
     ]
    }
   ],
   "source": [
    "import json \n",
    "d = json.loads(output)\n",
    "print(d)"
   ]
  },
  {
   "cell_type": "code",
   "execution_count": 268,
   "metadata": {},
   "outputs": [
    {
     "name": "stdout",
     "output_type": "stream",
     "text": [
      "https://reqres.in/api/users\n",
      "b'{\"name\":\"morpheus\",\"job\":\"leader\",\"id\":\"140\",\"createdAt\":\"2019-11-13T12:26:07.650Z\"}'\n"
     ]
    }
   ],
   "source": [
    "url = BASE_URL+\"/api/users\"\n",
    "print(url)\n",
    "\n",
    "data = {\n",
    "    \"name\": \"morpheus\",\n",
    "    \"job\": \"leader\"\n",
    "}\n",
    "\n",
    "response = requests.post(url,data = data)\n",
    "print(response.content)"
   ]
  }
 ],
 "metadata": {
  "kernelspec": {
   "display_name": "Python 3",
   "language": "python",
   "name": "python3"
  },
  "language_info": {
   "codemirror_mode": {
    "name": "ipython",
    "version": 3
   },
   "file_extension": ".py",
   "mimetype": "text/x-python",
   "name": "python",
   "nbconvert_exporter": "python",
   "pygments_lexer": "ipython3",
   "version": "3.6.5"
  }
 },
 "nbformat": 4,
 "nbformat_minor": 2
}
